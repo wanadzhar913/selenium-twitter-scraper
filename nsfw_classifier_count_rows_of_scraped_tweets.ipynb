{
 "cells": [
  {
   "cell_type": "code",
   "execution_count": 3,
   "metadata": {},
   "outputs": [],
   "source": [
    "import glob\n",
    "import pandas as pd"
   ]
  },
  {
   "cell_type": "code",
   "execution_count": 2,
   "metadata": {},
   "outputs": [
    {
     "data": {
      "text/plain": [
       "['tweets\\\\2024-05-30_14-32-57_ngata_Agama_tweets_1-1500.csv',\n",
       " 'tweets\\\\2024-05-30_15-35-09_ngata_Islam_tweets_1-1115.csv',\n",
       " 'tweets\\\\2024-05-30_15-37-53_ngata_Kristen_tweets_1-301.csv',\n",
       " 'tweets\\\\2024-05-30_15-39-35_ngata_Buddha_tweets_1-25.csv',\n",
       " 'tweets\\\\2024-05-30_15-41-17_ngata_Hindu_tweets_1-21.csv',\n",
       " 'tweets\\\\2024-05-30_15-42-56_ngata_Konghucu_tweets_1-1.csv',\n",
       " 'tweets\\\\2024-05-30_15-44-42_ngata_Katolik_tweets_1-31.csv',\n",
       " 'tweets\\\\2024-05-30_15-46-22_ngata_Protestan_tweets_1-4.csv',\n",
       " 'tweets\\\\2024-05-30_15-53-12_cemooh_Agama_tweets_1-564.csv',\n",
       " 'tweets\\\\2024-05-30_16-08-04_cemooh_Islam_tweets_1-532.csv',\n",
       " 'tweets\\\\2024-05-30_16-09-55_cemooh_Kristen_tweets_1-51.csv',\n",
       " 'tweets\\\\2024-05-30_16-11-38_cemooh_Buddha_tweets_1-1.csv',\n",
       " 'tweets\\\\2024-05-30_16-13-21_cemooh_Hindu_tweets_1-7.csv',\n",
       " 'tweets\\\\2024-05-30_16-15-04_cemooh_Konghucu_tweets_1-0.csv',\n",
       " 'tweets\\\\2024-05-30_16-16-48_cemooh_Katolik_tweets_1-21.csv',\n",
       " 'tweets\\\\2024-05-30_16-18-29_cemooh_Protestan_tweets_1-1.csv',\n",
       " 'tweets\\\\2024-05-30_16-39-30_olok_Agama_tweets_1-1500.csv',\n",
       " 'tweets\\\\2024-05-30_16-57-31_olok_Islam_tweets_1-1427.csv',\n",
       " 'tweets\\\\2024-05-30_17-10-38_olok_Kristen_tweets_1-99.csv',\n",
       " 'tweets\\\\2024-05-30_17-12-22_olok_Buddha_tweets_1-17.csv',\n",
       " 'tweets\\\\2024-05-30_17-14-15_olok_Hindu_tweets_1-73.csv',\n",
       " 'tweets\\\\2024-05-30_17-15-53_olok_Konghucu_tweets_1-0.csv',\n",
       " 'tweets\\\\2024-05-30_17-17-36_olok_Katolik_tweets_1-18.csv',\n",
       " 'tweets\\\\2024-05-30_17-19-15_olok_Protestan_tweets_1-7.csv',\n",
       " 'tweets\\\\2024-05-30_17-41-57_jelek_Agama_tweets_1-1500.csv',\n",
       " 'tweets\\\\2024-05-30_18-12-34_jelek_Islam_tweets_1-1500.csv',\n",
       " 'tweets\\\\2024-05-30_18-43-05_jelek_Kristen_tweets_1-1500.csv',\n",
       " 'tweets\\\\2024-05-30_18-45-55_jelek_Buddha_tweets_1-303.csv',\n",
       " 'tweets\\\\2024-05-30_19-14-54_jelek_Hindu_tweets_1-545.csv',\n",
       " 'tweets\\\\2024-05-30_19-17-04_jelek_Konghucu_tweets_1-47.csv',\n",
       " 'tweets\\\\2024-05-30_19-32-59_jelek_Katolik_tweets_1-819.csv',\n",
       " 'tweets\\\\2024-05-30_19-35-12_jelek_Protestan_tweets_1-82.csv',\n",
       " 'tweets\\\\2024-05-30_19-37-18_menertawakan_Agama_tweets_1-118.csv',\n",
       " 'tweets\\\\2024-05-30_19-50-43_menertawakan_Islam_tweets_1-885.csv',\n",
       " 'tweets\\\\2024-05-30_19-52-46_menertawakan_Kristen_tweets_1-90.csv',\n",
       " 'tweets\\\\2024-05-30_19-55-08_menertawakan_Buddha_tweets_1-0.csv',\n",
       " 'tweets\\\\2024-05-30_19-57-44_menertawakan_Hindu_tweets_1-24.csv',\n",
       " 'tweets\\\\2024-05-30_20-00-31_menertawakan_Konghucu_tweets_1-1.csv',\n",
       " 'tweets\\\\2024-05-30_20-04-18_menertawakan_Katolik_tweets_1-26.csv',\n",
       " 'tweets\\\\2024-05-30_20-06-10_menertawakan_Protestan_tweets_1-4.csv',\n",
       " 'tweets\\\\2024-05-30_20-09-04_cibiran_Agama_tweets_1-313.csv',\n",
       " 'tweets\\\\2024-05-30_20-22-18_cibiran_Islam_tweets_1-805.csv',\n",
       " 'tweets\\\\2024-05-30_20-42-05_cibiran_Kristen_tweets_1-236.csv']"
      ]
     },
     "execution_count": 2,
     "metadata": {},
     "output_type": "execute_result"
    }
   ],
   "source": [
    "# list down available files\n",
    "files = sorted(glob.glob('tweets/2024-*.csv'))\n",
    "files"
   ]
  },
  {
   "cell_type": "code",
   "execution_count": 8,
   "metadata": {},
   "outputs": [
    {
     "name": "stdout",
     "output_type": "stream",
     "text": [
      "<class 'pandas.core.frame.DataFrame'>\n",
      "Index: 16114 entries, 0 to 235\n",
      "Data columns (total 15 columns):\n",
      " #   Column         Non-Null Count  Dtype \n",
      "---  ------         --------------  ----- \n",
      " 0   Name           15865 non-null  object\n",
      " 1   Handle         16114 non-null  object\n",
      " 2   Timestamp      16114 non-null  object\n",
      " 3   Verified       16114 non-null  object\n",
      " 4   Content        16114 non-null  object\n",
      " 5   Comments       16114 non-null  object\n",
      " 6   Retweets       16114 non-null  object\n",
      " 7   Likes          16114 non-null  object\n",
      " 8   Analytics      16114 non-null  object\n",
      " 9   Tags           16114 non-null  object\n",
      " 10  Mentions       16114 non-null  object\n",
      " 11  Emojis         16114 non-null  object\n",
      " 12  Profile Image  16111 non-null  object\n",
      " 13  Tweet Link     16114 non-null  object\n",
      " 14  Tweet ID       16114 non-null  object\n",
      "dtypes: object(15)\n",
      "memory usage: 2.0+ MB\n"
     ]
    }
   ],
   "source": [
    "list_df = []\n",
    "\n",
    "for f in files:\n",
    "    df_ = pd.read_csv(f)\n",
    "    list_df.append(df_)\n",
    "\n",
    "df_master = pd.concat(list_df)\n",
    "df_master.info()"
   ]
  },
  {
   "cell_type": "code",
   "execution_count": 19,
   "metadata": {},
   "outputs": [
    {
     "data": {
      "text/plain": [
       "' ki neh ngata agama ko ok batek haha . yo acara e jm8 bsingla ikk jmbrpa pegy e'"
      ]
     },
     "execution_count": 19,
     "metadata": {},
     "output_type": "execute_result"
    }
   ],
   "source": [
    "df_master.iloc[999].Content"
   ]
  }
 ],
 "metadata": {
  "kernelspec": {
   "display_name": ".venv",
   "language": "python",
   "name": "python3"
  },
  "language_info": {
   "codemirror_mode": {
    "name": "ipython",
    "version": 3
   },
   "file_extension": ".py",
   "mimetype": "text/x-python",
   "name": "python",
   "nbconvert_exporter": "python",
   "pygments_lexer": "ipython3",
   "version": "3.11.5"
  }
 },
 "nbformat": 4,
 "nbformat_minor": 2
}
