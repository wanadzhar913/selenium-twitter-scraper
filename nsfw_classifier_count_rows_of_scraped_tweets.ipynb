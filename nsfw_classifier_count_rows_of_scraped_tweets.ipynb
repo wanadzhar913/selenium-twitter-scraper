{
 "cells": [
  {
   "cell_type": "code",
   "execution_count": 1,
   "metadata": {},
   "outputs": [],
   "source": [
    "import glob\n",
    "from datetime import datetime\n",
    "import pandas as pd"
   ]
  },
  {
   "cell_type": "code",
   "execution_count": 2,
   "metadata": {},
   "outputs": [
    {
     "name": "stdout",
     "output_type": "stream",
     "text": [
      "No. of files: 98\n",
      "\n"
     ]
    },
    {
     "data": {
      "text/plain": [
       "['tweets\\\\2024-05-30_14-32-57_ngata_Agama_tweets_1-1500.csv',\n",
       " 'tweets\\\\2024-05-30_15-35-09_ngata_Islam_tweets_1-1115.csv',\n",
       " 'tweets\\\\2024-05-30_15-37-53_ngata_Kristen_tweets_1-301.csv',\n",
       " 'tweets\\\\2024-05-30_15-39-35_ngata_Buddha_tweets_1-25.csv',\n",
       " 'tweets\\\\2024-05-30_15-41-17_ngata_Hindu_tweets_1-21.csv',\n",
       " 'tweets\\\\2024-05-30_15-42-56_ngata_Konghucu_tweets_1-1.csv',\n",
       " 'tweets\\\\2024-05-30_15-44-42_ngata_Katolik_tweets_1-31.csv',\n",
       " 'tweets\\\\2024-05-30_15-46-22_ngata_Protestan_tweets_1-4.csv',\n",
       " 'tweets\\\\2024-05-30_15-53-12_cemooh_Agama_tweets_1-564.csv',\n",
       " 'tweets\\\\2024-05-30_16-08-04_cemooh_Islam_tweets_1-532.csv',\n",
       " 'tweets\\\\2024-05-30_16-09-55_cemooh_Kristen_tweets_1-51.csv',\n",
       " 'tweets\\\\2024-05-30_16-11-38_cemooh_Buddha_tweets_1-1.csv',\n",
       " 'tweets\\\\2024-05-30_16-13-21_cemooh_Hindu_tweets_1-7.csv',\n",
       " 'tweets\\\\2024-05-30_16-15-04_cemooh_Konghucu_tweets_1-0.csv',\n",
       " 'tweets\\\\2024-05-30_16-16-48_cemooh_Katolik_tweets_1-21.csv',\n",
       " 'tweets\\\\2024-05-30_16-18-29_cemooh_Protestan_tweets_1-1.csv',\n",
       " 'tweets\\\\2024-05-30_16-39-30_olok_Agama_tweets_1-1500.csv',\n",
       " 'tweets\\\\2024-05-30_16-57-31_olok_Islam_tweets_1-1427.csv',\n",
       " 'tweets\\\\2024-05-30_17-10-38_olok_Kristen_tweets_1-99.csv',\n",
       " 'tweets\\\\2024-05-30_17-12-22_olok_Buddha_tweets_1-17.csv',\n",
       " 'tweets\\\\2024-05-30_17-14-15_olok_Hindu_tweets_1-73.csv',\n",
       " 'tweets\\\\2024-05-30_17-15-53_olok_Konghucu_tweets_1-0.csv',\n",
       " 'tweets\\\\2024-05-30_17-17-36_olok_Katolik_tweets_1-18.csv',\n",
       " 'tweets\\\\2024-05-30_17-19-15_olok_Protestan_tweets_1-7.csv',\n",
       " 'tweets\\\\2024-05-30_17-41-57_jelek_Agama_tweets_1-1500.csv',\n",
       " 'tweets\\\\2024-05-30_18-12-34_jelek_Islam_tweets_1-1500.csv',\n",
       " 'tweets\\\\2024-05-30_18-43-05_jelek_Kristen_tweets_1-1500.csv',\n",
       " 'tweets\\\\2024-05-30_18-45-55_jelek_Buddha_tweets_1-303.csv',\n",
       " 'tweets\\\\2024-05-30_19-14-54_jelek_Hindu_tweets_1-545.csv',\n",
       " 'tweets\\\\2024-05-30_19-17-04_jelek_Konghucu_tweets_1-47.csv',\n",
       " 'tweets\\\\2024-05-30_19-32-59_jelek_Katolik_tweets_1-819.csv',\n",
       " 'tweets\\\\2024-05-30_19-35-12_jelek_Protestan_tweets_1-82.csv',\n",
       " 'tweets\\\\2024-05-30_19-37-18_menertawakan_Agama_tweets_1-118.csv',\n",
       " 'tweets\\\\2024-05-30_19-50-43_menertawakan_Islam_tweets_1-885.csv',\n",
       " 'tweets\\\\2024-05-30_19-52-46_menertawakan_Kristen_tweets_1-90.csv',\n",
       " 'tweets\\\\2024-05-30_19-55-08_menertawakan_Buddha_tweets_1-0.csv',\n",
       " 'tweets\\\\2024-05-30_19-57-44_menertawakan_Hindu_tweets_1-24.csv',\n",
       " 'tweets\\\\2024-05-30_20-00-31_menertawakan_Konghucu_tweets_1-1.csv',\n",
       " 'tweets\\\\2024-05-30_20-04-18_menertawakan_Katolik_tweets_1-26.csv',\n",
       " 'tweets\\\\2024-05-30_20-06-10_menertawakan_Protestan_tweets_1-4.csv',\n",
       " 'tweets\\\\2024-05-30_20-09-04_cibiran_Agama_tweets_1-313.csv',\n",
       " 'tweets\\\\2024-05-30_20-22-18_cibiran_Islam_tweets_1-805.csv',\n",
       " 'tweets\\\\2024-05-30_20-42-05_cibiran_Kristen_tweets_1-236.csv',\n",
       " 'tweets\\\\2024-05-30_22-44-40_cibiran_Buddha_tweets_1-10.csv',\n",
       " 'tweets\\\\2024-05-30_22-48-47_cibiran_Hindu_tweets_1-9.csv',\n",
       " 'tweets\\\\2024-05-30_22-50-39_cibiran_Konghucu_tweets_1-1.csv',\n",
       " 'tweets\\\\2024-05-30_22-52-36_cibiran_Katolik_tweets_1-5.csv',\n",
       " 'tweets\\\\2024-05-30_22-54-27_cibiran_Protestan_tweets_1-5.csv',\n",
       " 'tweets\\\\2024-05-30_22-56-23_nyinyir_Agama_tweets_1-9.csv',\n",
       " 'tweets\\\\2024-05-30_23-04-18_nyinyir_Islam_tweets_1-650.csv',\n",
       " 'tweets\\\\2024-05-30_23-28-06_nyinyir_Kristen_tweets_1-699.csv',\n",
       " 'tweets\\\\2024-05-30_23-30-32_nyinyir_Buddha_tweets_1-72.csv',\n",
       " 'tweets\\\\2024-05-30_23-33-15_nyinyir_Hindu_tweets_1-229.csv',\n",
       " 'tweets\\\\2024-05-30_23-35-05_nyinyir_Konghucu_tweets_1-33.csv',\n",
       " 'tweets\\\\2024-05-30_23-52-33_nyinyir_Katolik_tweets_1-153.csv',\n",
       " 'tweets\\\\2024-05-30_23-54-25_nyinyir_Protestan_tweets_1-24.csv',\n",
       " 'tweets\\\\2024-06-01_14-52-13_ngata_Agama_tweets_1-2253.csv',\n",
       " 'tweets\\\\2024-06-01_14-55-17_olok_Agama_tweets_1-293.csv',\n",
       " 'tweets\\\\2024-06-01_14-57-00_jelek_Agama_tweets_1-15.csv',\n",
       " 'tweets\\\\2024-06-01_16-11-12_jelek_Islam_tweets_1-3964.csv',\n",
       " 'tweets\\\\2024-06-01_17-42-26_jelek_Kristen_tweets_1-4374.csv',\n",
       " 'tweets\\\\2024-06-01_17-47-49_lekeh_Agama_tweets_1-289.csv',\n",
       " 'tweets\\\\2024-06-01_18-07-13_lekeh_Agama_tweets_1-285.csv',\n",
       " 'tweets\\\\2024-06-01_18-09-52_lekeh_Islam_tweets_1-312.csv',\n",
       " 'tweets\\\\2024-06-01_18-11-29_lekeh_Kristen_tweets_1-0.csv',\n",
       " 'tweets\\\\2024-06-01_18-13-06_lekeh_Buddha_tweets_1-0.csv',\n",
       " 'tweets\\\\2024-06-01_18-14-49_lekeh_Hindu_tweets_1-9.csv',\n",
       " 'tweets\\\\2024-06-01_18-16-26_lekeh_Konghucu_tweets_1-0.csv',\n",
       " 'tweets\\\\2024-06-01_18-18-05_lekeh_Katolik_tweets_1-0.csv',\n",
       " 'tweets\\\\2024-06-01_18-19-44_lekeh_Protestan_tweets_1-0.csv',\n",
       " 'tweets\\\\2024-06-01_19-29-27_kutuk_Agama_tweets_1-3484.csv',\n",
       " 'tweets\\\\2024-06-01_22-52-58_kutuk_Islam_tweets_1-10338.csv',\n",
       " 'tweets\\\\2024-06-01_23-20-27_kutuk_Kristen_tweets_1-928.csv',\n",
       " 'tweets\\\\2024-06-01_23-23-43_kutuk_Buddha_tweets_1-265.csv',\n",
       " 'tweets\\\\2024-06-01_23-25-45_kutuk_Hindu_tweets_1-51.csv',\n",
       " 'tweets\\\\2024-06-01_23-27-29_kutuk_Konghucu_tweets_1-5.csv',\n",
       " 'tweets\\\\2024-06-01_23-38-09_kutuk_Katolik_tweets_1-605.csv',\n",
       " 'tweets\\\\2024-06-01_23-40-04_kutuk_Protestan_tweets_1-49.csv',\n",
       " 'tweets\\\\2024-06-02_00-47-00_main_Agama_tweets_1-3910.csv',\n",
       " 'tweets\\\\2024-06-02_00-55-39_main_Islam_tweets_1-178.csv',\n",
       " 'tweets\\\\2024-06-02_00-58-34_main_Kristen_tweets_1-319.csv',\n",
       " 'tweets\\\\2024-06-02_01-27-45_main_Buddha_tweets_1-603.csv',\n",
       " 'tweets\\\\2024-06-02_12-54-37_hina_Agama_tweets_1-191.csv',\n",
       " 'tweets\\\\2024-06-02_13-57-12_hina_Islam_tweets_1-3417.csv',\n",
       " 'tweets\\\\2024-06-02_15-59-07_hina_Kristen_tweets_1-5293.csv',\n",
       " 'tweets\\\\2024-06-02_16-01-01_hina_Buddha_tweets_1-27.csv',\n",
       " 'tweets\\\\2024-06-02_16-15-06_hina_Hindu_tweets_1-568.csv',\n",
       " 'tweets\\\\2024-06-02_16-17-00_hina_Konghucu_tweets_1-43.csv',\n",
       " 'tweets\\\\2024-06-02_16-31-37_hina_Katolik_tweets_1-844.csv',\n",
       " 'tweets\\\\2024-06-02_16-33-38_hina_Protestan_tweets_1-59.csv',\n",
       " 'tweets\\\\2024-06-02_17-05-07_sial_Agama_tweets_1-2103.csv',\n",
       " 'tweets\\\\2024-06-02_17-17-31_sial_Islam_tweets_1-166.csv',\n",
       " 'tweets\\\\2024-06-02_17-35-26_sial_Kristen_tweets_1-1237.csv',\n",
       " 'tweets\\\\2024-06-02_17-49-10_sial_Buddha_tweets_1-290.csv',\n",
       " 'tweets\\\\2024-06-02_17-51-12_sial_Hindu_tweets_1-131.csv',\n",
       " 'tweets\\\\2024-06-02_17-52-54_sial_Konghucu_tweets_1-39.csv',\n",
       " 'tweets\\\\2024-06-02_17-55-13_sial_Katolik_tweets_1-223.csv',\n",
       " 'tweets\\\\2024-06-02_17-57-07_sial_Protestan_tweets_1-111.csv']"
      ]
     },
     "execution_count": 2,
     "metadata": {},
     "output_type": "execute_result"
    }
   ],
   "source": [
    "# list down available files\n",
    "files = sorted(glob.glob('tweets/2024-*.csv'))\n",
    "print(f'No. of files: {len(files)}\\n')\n",
    "files"
   ]
  },
  {
   "cell_type": "code",
   "execution_count": 3,
   "metadata": {},
   "outputs": [
    {
     "name": "stdout",
     "output_type": "stream",
     "text": [
      "<class 'pandas.core.frame.DataFrame'>\n",
      "Index: 65284 entries, 0 to 110\n",
      "Data columns (total 15 columns):\n",
      " #   Column         Non-Null Count  Dtype \n",
      "---  ------         --------------  ----- \n",
      " 0   Name           64353 non-null  object\n",
      " 1   Handle         65284 non-null  object\n",
      " 2   Timestamp      65284 non-null  object\n",
      " 3   Verified       65284 non-null  object\n",
      " 4   Content        65217 non-null  object\n",
      " 5   Comments       65284 non-null  object\n",
      " 6   Retweets       65284 non-null  object\n",
      " 7   Likes          65284 non-null  object\n",
      " 8   Analytics      65284 non-null  object\n",
      " 9   Tags           65284 non-null  object\n",
      " 10  Mentions       65284 non-null  object\n",
      " 11  Emojis         65284 non-null  object\n",
      " 12  Profile Image  65277 non-null  object\n",
      " 13  Tweet Link     65284 non-null  object\n",
      " 14  Tweet ID       65284 non-null  object\n",
      "dtypes: object(15)\n",
      "memory usage: 8.0+ MB\n"
     ]
    }
   ],
   "source": [
    "list_df = []\n",
    "\n",
    "for f in files:\n",
    "    df_ = pd.read_csv(f)\n",
    "    list_df.append(df_)\n",
    "\n",
    "df_master = pd.concat(list_df)\n",
    "df_master.info()"
   ]
  },
  {
   "cell_type": "code",
   "execution_count": 4,
   "metadata": {},
   "outputs": [
    {
     "data": {
      "text/html": [
       "<div>\n",
       "<style scoped>\n",
       "    .dataframe tbody tr th:only-of-type {\n",
       "        vertical-align: middle;\n",
       "    }\n",
       "\n",
       "    .dataframe tbody tr th {\n",
       "        vertical-align: top;\n",
       "    }\n",
       "\n",
       "    .dataframe thead th {\n",
       "        text-align: right;\n",
       "    }\n",
       "</style>\n",
       "<table border=\"1\" class=\"dataframe\">\n",
       "  <thead>\n",
       "    <tr style=\"text-align: right;\">\n",
       "      <th></th>\n",
       "      <th>Name</th>\n",
       "      <th>Handle</th>\n",
       "      <th>Timestamp</th>\n",
       "      <th>Verified</th>\n",
       "      <th>Content</th>\n",
       "      <th>Comments</th>\n",
       "      <th>Retweets</th>\n",
       "      <th>Likes</th>\n",
       "      <th>Analytics</th>\n",
       "      <th>Tags</th>\n",
       "      <th>Mentions</th>\n",
       "      <th>Emojis</th>\n",
       "      <th>Profile Image</th>\n",
       "      <th>Tweet Link</th>\n",
       "      <th>Tweet ID</th>\n",
       "    </tr>\n",
       "  </thead>\n",
       "  <tbody>\n",
       "    <tr>\n",
       "      <th>0</th>\n",
       "      <td>Rahadian Al Azhar</td>\n",
       "      <td>@altazaro</td>\n",
       "      <td>2024-05-29T13:19:03.000Z</td>\n",
       "      <td>False</td>\n",
       "      <td>Haha, klasik banget. Kalo mau jadi Atheis yang...</td>\n",
       "      <td>1</td>\n",
       "      <td>0</td>\n",
       "      <td>0</td>\n",
       "      <td>61</td>\n",
       "      <td>[]</td>\n",
       "      <td>[]</td>\n",
       "      <td>['\\\\U0001f602']</td>\n",
       "      <td>https://pbs.twimg.com/profile_images/178401997...</td>\n",
       "      <td>https://x.com/altazaro/status/1795807066172575819</td>\n",
       "      <td>tweet_id:1795807066172575819</td>\n",
       "    </tr>\n",
       "    <tr>\n",
       "      <th>1</th>\n",
       "      <td>meteran_listrik</td>\n",
       "      <td>@indo_mie13</td>\n",
       "      <td>2024-05-28T05:16:13.000Z</td>\n",
       "      <td>False</td>\n",
       "      <td>Mulai nih agama damai ngata ngatain  nanti gw ...</td>\n",
       "      <td>1</td>\n",
       "      <td>0</td>\n",
       "      <td>0</td>\n",
       "      <td>32</td>\n",
       "      <td>[]</td>\n",
       "      <td>[]</td>\n",
       "      <td>['\\\\U0001f602', '\\\\U0001f602']</td>\n",
       "      <td>https://pbs.twimg.com/profile_images/177846386...</td>\n",
       "      <td>https://x.com/indo_mie13/status/17953231697857...</td>\n",
       "      <td>tweet_id:1795323169785757757</td>\n",
       "    </tr>\n",
       "    <tr>\n",
       "      <th>2</th>\n",
       "      <td>garibaldi.</td>\n",
       "      <td>@Piztachioz</td>\n",
       "      <td>2024-05-27T15:12:10.000Z</td>\n",
       "      <td>False</td>\n",
       "      <td>Baru ngata-ngatain orang indo yang rasis dan m...</td>\n",
       "      <td>0</td>\n",
       "      <td>0</td>\n",
       "      <td>10</td>\n",
       "      <td>560</td>\n",
       "      <td>[]</td>\n",
       "      <td>[]</td>\n",
       "      <td>[]</td>\n",
       "      <td>https://pbs.twimg.com/profile_images/176850343...</td>\n",
       "      <td>https://x.com/Piztachioz/status/17951107569559...</td>\n",
       "      <td>tweet_id:1795110756955959619</td>\n",
       "    </tr>\n",
       "  </tbody>\n",
       "</table>\n",
       "</div>"
      ],
      "text/plain": [
       "                Name       Handle                 Timestamp Verified  \\\n",
       "0  Rahadian Al Azhar    @altazaro  2024-05-29T13:19:03.000Z    False   \n",
       "1    meteran_listrik  @indo_mie13  2024-05-28T05:16:13.000Z    False   \n",
       "2         garibaldi.  @Piztachioz  2024-05-27T15:12:10.000Z    False   \n",
       "\n",
       "                                             Content Comments Retweets Likes  \\\n",
       "0  Haha, klasik banget. Kalo mau jadi Atheis yang...        1        0     0   \n",
       "1  Mulai nih agama damai ngata ngatain  nanti gw ...        1        0     0   \n",
       "2  Baru ngata-ngatain orang indo yang rasis dan m...        0        0    10   \n",
       "\n",
       "  Analytics Tags Mentions                          Emojis  \\\n",
       "0        61   []       []                 ['\\\\U0001f602']   \n",
       "1        32   []       []  ['\\\\U0001f602', '\\\\U0001f602']   \n",
       "2       560   []       []                              []   \n",
       "\n",
       "                                       Profile Image  \\\n",
       "0  https://pbs.twimg.com/profile_images/178401997...   \n",
       "1  https://pbs.twimg.com/profile_images/177846386...   \n",
       "2  https://pbs.twimg.com/profile_images/176850343...   \n",
       "\n",
       "                                          Tweet Link  \\\n",
       "0  https://x.com/altazaro/status/1795807066172575819   \n",
       "1  https://x.com/indo_mie13/status/17953231697857...   \n",
       "2  https://x.com/Piztachioz/status/17951107569559...   \n",
       "\n",
       "                       Tweet ID  \n",
       "0  tweet_id:1795807066172575819  \n",
       "1  tweet_id:1795323169785757757  \n",
       "2  tweet_id:1795110756955959619  "
      ]
     },
     "execution_count": 4,
     "metadata": {},
     "output_type": "execute_result"
    }
   ],
   "source": [
    "df_master.head(3)"
   ]
  },
  {
   "cell_type": "code",
   "execution_count": 5,
   "metadata": {},
   "outputs": [
    {
     "name": "stdout",
     "output_type": "stream",
     "text": [
      "<class 'pandas.core.frame.DataFrame'>\n",
      "Index: 55279 entries, 0 to 110\n",
      "Data columns (total 15 columns):\n",
      " #   Column         Non-Null Count  Dtype \n",
      "---  ------         --------------  ----- \n",
      " 0   Name           54516 non-null  object\n",
      " 1   Handle         55279 non-null  object\n",
      " 2   Timestamp      55279 non-null  object\n",
      " 3   Verified       55279 non-null  object\n",
      " 4   Content        55213 non-null  object\n",
      " 5   Comments       55279 non-null  object\n",
      " 6   Retweets       55279 non-null  object\n",
      " 7   Likes          55279 non-null  object\n",
      " 8   Analytics      55279 non-null  object\n",
      " 9   Tags           55279 non-null  object\n",
      " 10  Mentions       55279 non-null  object\n",
      " 11  Emojis         55279 non-null  object\n",
      " 12  Profile Image  55272 non-null  object\n",
      " 13  Tweet Link     55279 non-null  object\n",
      " 14  Tweet ID       55279 non-null  object\n",
      "dtypes: object(15)\n",
      "memory usage: 6.7+ MB\n"
     ]
    }
   ],
   "source": [
    "# drop duplicates\n",
    "df_master_ = df_master.drop_duplicates(\n",
    "    subset='Tweet ID',\n",
    "    keep='first',\n",
    ")\n",
    "\n",
    "df_master_.info()"
   ]
  },
  {
   "cell_type": "code",
   "execution_count": 6,
   "metadata": {},
   "outputs": [
    {
     "data": {
      "text/plain": [
       "'\"@_chuad: Di akhir zaman mulut bicara soal agama, hati dan perbuatan mcm cilaka.\"\\n\\nNi ngata ustaz patul ke '"
      ]
     },
     "execution_count": 6,
     "metadata": {},
     "output_type": "execute_result"
    }
   ],
   "source": [
    "df_master_.iloc[999].Content"
   ]
  },
  {
   "cell_type": "code",
   "execution_count": 7,
   "metadata": {},
   "outputs": [
    {
     "name": "stdout",
     "output_type": "stream",
     "text": [
      "02062024\n"
     ]
    }
   ],
   "source": [
    "# Get the current date\n",
    "current_date = datetime.now()\n",
    "\n",
    "# Format the date as 'DDMMYYYY'\n",
    "formatted_date = current_date.strftime(\"%d%m%Y\")\n",
    "\n",
    "print(formatted_date)"
   ]
  },
  {
   "cell_type": "code",
   "execution_count": 8,
   "metadata": {},
   "outputs": [],
   "source": [
    "# export dataframe\n",
    "df_master_.to_json(\n",
    "    f'tweets/raw_scraped_nsfw_indonesian_religious_insult_{len(df_master_)}rows_v{formatted_date}.jsonl',\n",
    "    orient='records',\n",
    "    lines=True,\n",
    ")"
   ]
  },
  {
   "cell_type": "code",
   "execution_count": 9,
   "metadata": {},
   "outputs": [
    {
     "name": "stdout",
     "output_type": "stream",
     "text": [
      "No. of rows:  55279\n"
     ]
    }
   ],
   "source": [
    "check = pd.read_json(\n",
    "    f'tweets/raw_scraped_nsfw_indonesian_religious_insult_{len(df_master_)}rows_v{formatted_date}.jsonl',\n",
    "    lines=True,\n",
    ")\n",
    "\n",
    "print('No. of rows: ', len(check))"
   ]
  }
 ],
 "metadata": {
  "kernelspec": {
   "display_name": ".venv",
   "language": "python",
   "name": "python3"
  },
  "language_info": {
   "codemirror_mode": {
    "name": "ipython",
    "version": 3
   },
   "file_extension": ".py",
   "mimetype": "text/x-python",
   "name": "python",
   "nbconvert_exporter": "python",
   "pygments_lexer": "ipython3",
   "version": "3.11.5"
  }
 },
 "nbformat": 4,
 "nbformat_minor": 2
}
